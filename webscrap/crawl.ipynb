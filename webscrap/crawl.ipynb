{
 "cells": [
  {
   "cell_type": "code",
   "execution_count": 11,
   "metadata": {},
   "outputs": [],
   "source": [
    "from webscrap import wlog\n",
    "from urllib.request import urlopen\n",
    "from bs4 import BeautifulSoup\n",
    "import re\n",
    "import csv\n",
    "import os"
   ]
  },
  {
   "cell_type": "code",
   "execution_count": 12,
   "metadata": {},
   "outputs": [],
   "source": [
    "web_url   = 'https://www.flipkart.com/furniture/~living-room-furniture-/pr?sid=wwe&otracker=nmenu_sub_Home%20%26%20Furniture_0_Living%20Room%20Furniture'"
   ]
  },
  {
   "cell_type": "code",
   "execution_count": 13,
   "metadata": {},
   "outputs": [],
   "source": [
    "class NewsScraper:\n",
    "    __url = ''\n",
    "    __data = ''\n",
    "    __wlog = None\n",
    "    __soup = None\n",
    "\n",
    "    filepath = 'html/temp.html'\n",
    "\n",
    "    def __init__(self, url, wlog):\n",
    "        self.__url = url\n",
    "        self.__wlog = wlog\n",
    "\n",
    "    def retrieve_webpage(self):\n",
    "        try:\n",
    "            html = urlopen(self.__url)\n",
    "        except Exception as e:\n",
    "            print(e)\n",
    "            self.__wlog.report(str(e))\n",
    "        else:\n",
    "            self.__data = html.read()\n",
    "            if len(self.__data) > 0:\n",
    "                print(\"Retrieved successfully.\\nYou can see the data in csv file: html/data.csv\")\n",
    "                \n",
    "    def deleteTempFile(self, filepath=filepath):\n",
    "        os.remove(filepath)\n",
    "\n",
    "    def write_webpage_as_html(self, filepath=filepath, data=''):\n",
    "        try:\n",
    "            with open(filepath, 'wb') as fobj:\n",
    "                if data:\n",
    "                    fobj.write(data)\n",
    "                else:\n",
    "                    fobj.write(self.__data)\n",
    "        except Exception as e:\n",
    "            print(e)\n",
    "            self.__wlog.report(str(e))\n",
    "\n",
    "    def read_webpage_from_html(self, filepath=filepath):\n",
    "        try:\n",
    "            with open(filepath) as fobj:\n",
    "                self.__data = fobj.read()\n",
    "        except Exception as e:\n",
    "            print(e)\n",
    "            self.__wlog.report(str(e))\n",
    "\n",
    "    def convert_data_to_bs4(self):\n",
    "        self.__soup = BeautifulSoup(self.__data, \"html.parser\")\n",
    "\n",
    "    def change_url(self, url):\n",
    "        self.__url = url\n",
    "\n",
    "    def print_data(self):\n",
    "        print(self.__data)\n",
    "\n",
    "    def parse_soup_to_simple_html(self):\n",
    "        news_list = self.__soup.find_all('div', {\"class\": \"_3liAhj\"})  # a\n",
    "\n",
    "        # print (news_list)Zhf2z-\n",
    "\n",
    "        # print(csv)\n",
    "\n",
    "        filename = \"html/data.csv\"\n",
    "        csv_writer = csv.writer(open(filename, 'w'))\n",
    "\n",
    "        csv_writer.writerow(['Heading', 'Link', 'Description', 'Price', 'Number of Reviews'])\n",
    "\n",
    "        for tag in news_list:\n",
    "\n",
    "            title = tag.findChild('a', {'class':'_2cLu-l'})\n",
    "            link = 'www.flipkart.com' + title['href']\n",
    "            heading = title.text\n",
    "            nprice = tag.findChild('div', {'class':'_1vC4OE'}).text.strip()\n",
    "            nprice = re.sub(r'[^a-zA-Z0-9.,]', '', nprice)\n",
    "            desc = tag.findChild('div', {'class':'_1rcHFq'}).text\n",
    "            nrev = tag.findChild('span', {'class':'_38sUEc'}).text\n",
    "            nrev = re.sub(r'[^0-9]', '', nrev)\n",
    "\n",
    "            csv_writer.writerow([heading,link,desc,nprice,nrev]) \n",
    "        \n"
   ]
  },
  {
   "cell_type": "code",
   "execution_count": 14,
   "metadata": {},
   "outputs": [],
   "source": [
    "wlog.set_custom_log_info('html/error.log')\n",
    "\n",
    "news_scrap = NewsScraper(web_url, wlog)"
   ]
  },
  {
   "cell_type": "code",
   "execution_count": 15,
   "metadata": {},
   "outputs": [
    {
     "name": "stdout",
     "output_type": "stream",
     "text": [
      "Retrieved successfully.\n",
      "You can see the data in csv file: html/data.csv\n"
     ]
    }
   ],
   "source": [
    "news_scrap.retrieve_webpage()\n",
    "news_scrap.write_webpage_as_html()\n",
    "news_scrap.read_webpage_from_html()\n",
    "news_scrap.convert_data_to_bs4()\n",
    "news_scrap.parse_soup_to_simple_html()\n",
    "news_scrap.deleteTempFile()"
   ]
  },
  {
   "cell_type": "code",
   "execution_count": null,
   "metadata": {},
   "outputs": [],
   "source": []
  }
 ],
 "metadata": {
  "kernelspec": {
   "display_name": "Python 3",
   "language": "python",
   "name": "python3"
  },
  "language_info": {
   "codemirror_mode": {
    "name": "ipython",
    "version": 3
   },
   "file_extension": ".py",
   "mimetype": "text/x-python",
   "name": "python",
   "nbconvert_exporter": "python",
   "pygments_lexer": "ipython3",
   "version": "3.7.0"
  }
 },
 "nbformat": 4,
 "nbformat_minor": 2
}
